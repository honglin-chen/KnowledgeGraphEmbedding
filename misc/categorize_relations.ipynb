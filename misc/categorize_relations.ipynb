{
 "cells": [
  {
   "cell_type": "code",
   "execution_count": 4,
   "metadata": {},
   "outputs": [],
   "source": [
    "import numpy as np\n",
    "import os\n",
    "import torch"
   ]
  },
  {
   "cell_type": "code",
   "execution_count": 5,
   "metadata": {},
   "outputs": [],
   "source": [
    "data_path = '../data/wn18rr'\n",
    "def read_triple(file_path, entity2id, relation2id):\n",
    "    '''\n",
    "    Read triples and map them into ids.\n",
    "    '''\n",
    "    triples = []\n",
    "    with open(file_path) as fin:\n",
    "        for line in fin:\n",
    "            h, r, t = line.strip().split('\\t')\n",
    "            triples.append((entity2id[h], relation2id[r], entity2id[t]))\n",
    "    return triples\n",
    "\n",
    "with open(os.path.join(data_path, 'entities.dict')) as fin:\n",
    "    entity2id = dict()\n",
    "    for line in fin:\n",
    "        eid, entity = line.strip().split('\\t')\n",
    "        entity2id[entity] = int(eid)\n",
    "\n",
    "with open(os.path.join(data_path, 'relations.dict')) as fin:\n",
    "    relation2id = dict()\n",
    "    for line in fin:\n",
    "        rid, relation = line.strip().split('\\t')\n",
    "        relation2id[relation] = int(rid)\n",
    "            \n",
    "train_triples = read_triple(os.path.join(data_path, 'train.txt'), entity2id, relation2id)\n",
    "valid_triples = read_triple(os.path.join(data_path, 'valid.txt'), entity2id, relation2id)\n",
    "test_triples = read_triple(os.path.join(data_path, 'test.txt'), entity2id, relation2id)\n",
    "\n",
    "# triples = train_triples + valid_triples + test_triples\n",
    "triples = train_triples # test_triples\n",
    "triples = torch.LongTensor(triples)\n"
   ]
  },
  {
   "cell_type": "markdown",
   "metadata": {},
   "source": [
    "# Categorize relations"
   ]
  },
  {
   "cell_type": "code",
   "execution_count": 6,
   "metadata": {},
   "outputs": [
    {
     "name": "stdout",
     "output_type": "stream",
     "text": [
      "0 _hypernym M-1 34796 3.6627368927001953 1.0224194526672363\n",
      "1 _derivationally_related_form M-M 29715 1.8446210622787476 1.8454229831695557\n",
      "2 _instance_hypernym M-M 2921 7.230197906494141 1.18450927734375\n",
      "3 _also_see M-M 1299 1.6505718231201172 1.8373408317565918\n",
      "4 _member_meronym 1-M 7402 1.0084468126296997 2.391599416732788\n",
      "5 _synset_domain_topic_of M-1 3116 10.084142684936523 1.0484522581100464\n",
      "6 _has_part M-M 4816 1.2070175409317017 2.4347825050354004\n",
      "7 _member_of_domain_usage 1-M 629 1.058922529220581 25.15999984741211\n",
      "8 _member_of_domain_region 1-M 923 1.0572737455368042 8.096490859985352\n",
      "9 _verb_group M-M 1138 1.1612244844436646 1.1635991334915161\n",
      "10 _similar_to 1-1 80 1.0526316165924072 1.0389610528945923\n"
     ]
    }
   ],
   "source": [
    "num_relations = len(relation2id)\n",
    "\n",
    "one_many, one_one, many_one, many_many = 0., 0., 0., 0.\n",
    "one_many_num, one_one_num, many_one_num, many_many_num = 0., 0., 0., 0.\n",
    "\n",
    "many_thresh = 1.1\n",
    "\n",
    "relation_dict = {}\n",
    "\n",
    "for i in range(num_relations):\n",
    "    relation_mask = (triples[:, 1] == i)\n",
    "    if torch.sum(relation_mask) == 0:\n",
    "        relation_dict[list(relation2id.keys())[i]] = 'None'\n",
    "        continue\n",
    "    head = triples[relation_mask, 0].data.tolist()\n",
    "    tail = triples[relation_mask, 2].data.tolist()\n",
    "    head = set(head)\n",
    "    tail = set(tail)\n",
    "    \n",
    "    pairs = triples[relation_mask, :]\n",
    "    pairs_tail = pairs[:, 2].unsqueeze(1).expand(-1, len(tail))\n",
    "    tensor_tail = torch.Tensor(list(tail)).view(1, len(tail))\n",
    "    n_heads = (tensor_tail == pairs_tail).sum(dim=0)\n",
    "    avg_head = torch.mean(n_heads.float())\n",
    "    \n",
    "    pairs_head = pairs[:, 0].unsqueeze(1).expand(-1, len(head))\n",
    "    tensor_head = torch.Tensor(list(head)).view(1, len(head))\n",
    "    n_tails = (tensor_head == pairs_head).sum(dim=0)\n",
    "    avg_tail = torch.mean(n_tails.float())\n",
    "    \n",
    "    n = torch.sum(relation_mask).item()\n",
    "    if avg_head > many_thresh:\n",
    "        if avg_tail > many_thresh:\n",
    "            cat = 'M-M'\n",
    "            many_many += 1\n",
    "            many_many_num += n\n",
    "        else:\n",
    "            cat = 'M-1'\n",
    "            many_one += 1\n",
    "            many_one_num += n\n",
    "    else:\n",
    "        if avg_tail > many_thresh:\n",
    "            cat = '1-M'\n",
    "            one_many += 1\n",
    "            one_many_num += n\n",
    "        else:\n",
    "            cat = '1-1'\n",
    "            one_one += 1\n",
    "            one_one_num += n\n",
    "    \n",
    "    relation_dict[list(relation2id.keys())[i]] = cat\n",
    "    print(i, list(relation2id.keys())[i], cat, n, avg_head.item(), avg_tail.item())\n",
    "    \n",
    "        \n",
    "        \n",
    "    \n",
    "    "
   ]
  },
  {
   "cell_type": "code",
   "execution_count": 13,
   "metadata": {},
   "outputs": [
    {
     "name": "stdout",
     "output_type": "stream",
     "text": [
      "4.0 4.0 3.0 0.0\n",
      "475.0 1172.0 1487.0 0.0\n",
      "3134.0\n",
      "3134\n"
     ]
    }
   ],
   "source": [
    "relation_dict\n",
    "print(one_many, one_one, many_one, many_many)\n",
    "print(one_many_num, one_one_num, many_one_num, many_many_num)\n",
    "print(one_many_num + one_one_num + many_one_num + many_many_num)\n",
    "print(len(test_triples))"
   ]
  },
  {
   "cell_type": "code",
   "execution_count": 14,
   "metadata": {},
   "outputs": [],
   "source": [
    "with open(os.path.join(data_path, 'relation_category.txt'), 'w') as f:\n",
    "    for key, value in relation_dict.items():\n",
    "        f.write('%s\\t%s\\n' % (key, value))"
   ]
  },
  {
   "cell_type": "code",
   "execution_count": null,
   "metadata": {},
   "outputs": [],
   "source": []
  }
 ],
 "metadata": {
  "kernelspec": {
   "display_name": "Python 3",
   "language": "python",
   "name": "python3"
  },
  "language_info": {
   "codemirror_mode": {
    "name": "ipython",
    "version": 3
   },
   "file_extension": ".py",
   "mimetype": "text/x-python",
   "name": "python",
   "nbconvert_exporter": "python",
   "pygments_lexer": "ipython3",
   "version": "3.7.5"
  }
 },
 "nbformat": 4,
 "nbformat_minor": 4
}
