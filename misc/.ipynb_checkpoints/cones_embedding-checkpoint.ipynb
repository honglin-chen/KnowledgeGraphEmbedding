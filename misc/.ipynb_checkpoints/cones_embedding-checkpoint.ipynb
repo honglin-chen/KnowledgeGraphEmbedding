{
 "cells": [
  {
   "cell_type": "code",
   "execution_count": 51,
   "metadata": {},
   "outputs": [],
   "source": [
    "import torch\n",
    "import matplotlib.pyplot as plt\n",
    "import matplotlib.animation as animation\n",
    "import time\n",
    "import numpy as np"
   ]
  },
  {
   "cell_type": "code",
   "execution_count": 4,
   "metadata": {},
   "outputs": [],
   "source": [
    "data = torch.load('../tmp/dict.pth')"
   ]
  },
  {
   "cell_type": "code",
   "execution_count": 71,
   "metadata": {},
   "outputs": [
    {
     "name": "stdout",
     "output_type": "stream",
     "text": [
      "0\n"
     ]
    },
    {
     "data": {
      "image/png": "[encoded data removed]",
      "text/plain": [
       "<Figure size 432x288 with 1 Axes>"
      ]
     },
     "metadata": {
      "needs_background": "light"
     },
     "output_type": "display_data"
    }
   ],
   "source": [
    "class AnimatedScatter(object):\n",
    "    \"\"\"An animated scatter plot using matplotlib.animations.FuncAnimation.\"\"\"\n",
    "    def __init__(self, numpoints=50):\n",
    "        self.numpoints = numpoints\n",
    "        self.count = 0\n",
    "        self.stream = self.data_stream()\n",
    "        \n",
    "        self.data = data\n",
    "\n",
    "        # Setup the figure and axes...\n",
    "        self.fig, self.ax = plt.subplots()\n",
    "        # Then setup FuncAnimation.\n",
    "        self.ani = animation.FuncAnimation(self.fig, self.update, frames=[1,2,3,4], interval=100, \n",
    "                                          init_func=self.setup_plot, blit=True)\n",
    "\n",
    "    def setup_plot(self):\n",
    "        \"\"\"Initial drawing of the scatter plot.\"\"\"\n",
    "        x, y, s, c = next(self.stream).T\n",
    "        \n",
    "        self.scat = self.ax.scatter(x, y, c=c, s=s, vmin=0, vmax=1,\n",
    "                                    cmap=\"jet\", edgecolor=\"k\")\n",
    "        # self.ax.axis([-10, 10, -10, 10])\n",
    "        # For FuncAnimation's sake, we need to return the artist we'll be using\n",
    "        # Note that it expects a sequence of artists, thus the trailing comma.\n",
    "        return self.scat,\n",
    "\n",
    "    def data_stream(self):\n",
    "        print(self.count)\n",
    "        key = list(data.keys())[self.count]\n",
    "        self.count += 1\n",
    "        _data = data[key]\n",
    "        positive_dict = _data['positive_dict']\n",
    "        pos_head = positive_dict['head'].tolist()[0][0]\n",
    "        pos_tail = positive_dict['tail'].tolist()[0][0][0]\n",
    "        pos_res = positive_dict['res'].tolist()[0][0][0]\n",
    "        \n",
    "        yield np.c_[pos_head[0], pos_head[1], 1, 2]\n",
    "\n",
    "    def update(self, i):\n",
    "        \"\"\"Update the scatter plot.\"\"\"\n",
    "        data = next(self.stream)\n",
    "\n",
    "        # Set x and y data...\n",
    "        self.scat.set_offsets(data[:, :2])\n",
    "        # Set sizes...\n",
    "        self.scat.set_sizes(300 * abs(data[:, 2])**1.5 + 100)\n",
    "        # Set colors..\n",
    "        self.scat.set_array(data[:, 3])\n",
    "\n",
    "        # We need to return the updated artist for FuncAnimation to draw..\n",
    "        # Note that it expects a sequence of artists, thus the trailing comma.\n",
    "        return self.scat,\n",
    "\n",
    "\n",
    "a = AnimatedScatter()\n",
    "plt.show()"
   ]
  },
  {
   "cell_type": "code",
   "execution_count": null,
   "metadata": {},
   "outputs": [],
   "source": []
  },
  {
   "cell_type": "code",
   "execution_count": 79,
   "metadata": {},
   "outputs": [
    {
     "name": "stdout",
     "output_type": "stream",
     "text": [
      "0\n",
      "6\n",
      "8\n",
      "12\n",
      "18\n",
      "20\n",
      "26\n",
      "28\n",
      "34\n",
      "38\n",
      "40\n",
      "46\n",
      "50\n",
      "54\n",
      "56\n",
      "60\n",
      "66\n",
      "68\n",
      "72\n",
      "78\n",
      "80\n",
      "84\n",
      "90\n",
      "92\n",
      "96\n",
      "100\n"
     ]
    },
    {
     "data": {
      "text/plain": [
       "<Figure size 720x720 with 0 Axes>"
      ]
     },
     "metadata": {},
     "output_type": "display_data"
    }
   ],
   "source": [
    "fig = plt.figure(figsize=(10, 10))\n",
    "first_flag = True\n",
    "\n",
    "for key in data.keys():\n",
    "    _data = data[key]\n",
    "    print(key)\n",
    "    positive_dict = _data['positive_dict']\n",
    "    pos_head = positive_dict['head'].tolist()[0][0]\n",
    "    pos_tail = positive_dict['tail'].tolist()[0][0][0]\n",
    "    pos_res = positive_dict['res'].tolist()[0][0][0]\n",
    "    # print(pos_tail)\n",
    "    plt.scatter(pos_head[0], pos_head[1], color='gray')\n",
    "    plt.scatter(pos_tail[0], pos_tail[1], color='black')\n",
    "    plt.xlim([-1, 1])\n",
    "    plt.ylim([-1, 1])\n",
    "    plt.scatter(pos_res[0], pos_res[1], color='red')\n",
    "    plt.savefig('../tmp/figures/%d.png' % key)\n",
    "    plt.clf()\n"
   ]
  },
  {
   "cell_type": "code",
   "execution_count": 4,
   "metadata": {},
   "outputs": [],
   "source": [
    "import cv2\n",
    "import os\n",
    "\n",
    "image_folder = '../tmp/figures'\n",
    "video_name = 'video.avi'\n",
    "\n",
    "images = [img for img in os.listdir(image_folder) if img.endswith(\".png\")]\n",
    "frame = cv2.imread(os.path.join(image_folder, images[0]))\n",
    "height, width, layers = frame.shape\n",
    "\n",
    "video = cv2.VideoWriter(video_name, 0, 1, (width,height))\n",
    "\n",
    "for image in images:\n",
    "    video.write(cv2.imread(os.path.join(image_folder, image)))\n",
    "\n",
    "cv2.destroyAllWindows()\n",
    "video.release()"
   ]
  },
  {
   "cell_type": "code",
   "execution_count": 75,
   "metadata": {},
   "outputs": [
    {
     "data": {
      "image/png": "[encoded data removed]",
      "text/plain": [
       "<Figure size 432x288 with 1 Axes>"
      ]
     },
     "metadata": {
      "needs_background": "light"
     },
     "output_type": "display_data"
    }
   ],
   "source": [
    "from IPython.display import Video\n",
    "\n",
    "Video(\"test.mp4\")"
   ]
  },
  {
   "cell_type": "code",
   "execution_count": null,
   "metadata": {},
   "outputs": [],
   "source": []
  }
 ],
 "metadata": {
  "kernelspec": {
   "display_name": "Python 3",
   "language": "python",
   "name": "python3"
  },
  "language_info": {
   "codemirror_mode": {
    "name": "ipython",
    "version": 3
   },
   "file_extension": ".py",
   "mimetype": "text/x-python",
   "name": "python",
   "nbconvert_exporter": "python",
   "pygments_lexer": "ipython3",
   "version": "3.7.5"
  }
 },
 "nbformat": 4,
 "nbformat_minor": 4
}
