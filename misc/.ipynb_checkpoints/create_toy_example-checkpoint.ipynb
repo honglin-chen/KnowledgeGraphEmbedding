{
 "cells": [
  {
   "cell_type": "code",
   "execution_count": 1,
   "metadata": {},
   "outputs": [],
   "source": [
    "import torch\n",
    "import os"
   ]
  },
  {
   "cell_type": "code",
   "execution_count": 16,
   "metadata": {},
   "outputs": [],
   "source": [
    "data_path = '../data/wn18rr_small'"
   ]
  },
  {
   "cell_type": "code",
   "execution_count": 46,
   "metadata": {},
   "outputs": [],
   "source": [
    "def read_triple(file_path, entity2id, relation2id):\n",
    "    '''\n",
    "    Read triples and map them into ids.\n",
    "    '''\n",
    "    triples = []\n",
    "    with open(file_path) as fin:\n",
    "        for line in fin:\n",
    "            h, r, t = line.strip().split('\\t')\n",
    "            triples.append((entity2id[h], relation2id[r], entity2id[t]))\n",
    "    return triples\n",
    "\n",
    "with open(os.path.join(data_path, 'entities.dict')) as fin:\n",
    "    entity2id = dict()\n",
    "    for line in fin:\n",
    "        eid, entity = line.strip().split('\\t')\n",
    "        entity2id[entity] = int(eid)\n",
    "\n",
    "with open(os.path.join(data_path, 'relations.dict')) as fin:\n",
    "    relation2id = dict()\n",
    "    for line in fin:\n",
    "        rid, relation = line.strip().split('\\t')\n",
    "        relation2id[relation] = int(rid)\n",
    "\n",
    "train_triples = read_triple(os.path.join(data_path, 'train.txt'), entity2id, relation2id)\n",
    "train_triples = torch.LongTensor(train_triples)\n",
    "\n",
    "valid_triples = read_triple(os.path.join(data_path, 'valid.txt'), entity2id, relation2id)\n",
    "valid_triples = torch.LongTensor(valid_triples)\n",
    "\n",
    "test_triples = read_triple(os.path.join(data_path, 'test.txt'), entity2id, relation2id)\n",
    "test_triples = torch.LongTensor(test_triples)\n",
    "triples = train_triples\n",
    "\n",
    "rid2cid = dict()\n",
    "category2id = {'1-1': 0, '1-M': 1, 'M-1': 2, 'M-M': 3, 'None': -1}\n",
    "\n",
    "with open(os.path.join(data_path, 'relation_category.txt')) as fin:\n",
    "    for line in fin:\n",
    "        relation, category = line.strip().split('\\t')\n",
    "        rid2cid[relation2id[relation]] = category2id[category]\n"
   ]
  },
  {
   "cell_type": "code",
   "execution_count": 47,
   "metadata": {},
   "outputs": [
    {
     "name": "stdout",
     "output_type": "stream",
     "text": [
      "torch.Size([1247, 4])\n"
     ]
    }
   ],
   "source": [
    "# Create a column for storing relation category\n",
    "category = torch.zeros(triples.shape[0], 1).long()\n",
    "for i in range(triples.shape[0]):\n",
    "    category[i] = rid2cid[triples[i, 1].item()]\n",
    "triples = torch.cat([triples, category], dim=-1)\n",
    "print(triples.shape)"
   ]
  },
  {
   "cell_type": "code",
   "execution_count": 48,
   "metadata": {},
   "outputs": [
    {
     "name": "stdout",
     "output_type": "stream",
     "text": [
      "True\n",
      "tensor([[23654,     0, 11345],\n",
      "        [13957,     0, 22153],\n",
      "        [ 4873,     0,  7817],\n",
      "        ...,\n",
      "        [12018,     0,   715],\n",
      "        [ 9552,     0,  9551],\n",
      "        [16557,     0,  6297]])\n",
      "tensor([[13267,     4, 23498,     0],\n",
      "        [ 3239,     0,  5350,     0],\n",
      "        [17637,     0, 17843,     0],\n",
      "        ...,\n",
      "        [23467,     2, 22667,     1],\n",
      "        [18872,     0,  9297,     0],\n",
      "        [ 5176,     0,  5175,     0]])\n"
     ]
    }
   ],
   "source": [
    "replaced_selected_valid_triples = torch.load('replaced_selected_valid_triples.pt')\n",
    "replaced_selected_triples = torch.load('replaced_selected_triples.pt')\n",
    "replaced_selected_test_triples = torch.load('replaced_selected_test_triples.pt')\n",
    "print(torch.equal(replaced_selected_test_triples, triples[:, 0:3]))\n",
    "print(replaced_selected_valid_triples)\n",
    "print(triples)"
   ]
  },
  {
   "cell_type": "markdown",
   "metadata": {},
   "source": [
    "# Search for 1-to-N"
   ]
  },
  {
   "cell_type": "code",
   "execution_count": 20,
   "metadata": {},
   "outputs": [
    {
     "name": "stdout",
     "output_type": "stream",
     "text": [
      "0 2 34795\n",
      "1 0 29715\n",
      "2 2 2921\n",
      "3 0 1299\n",
      "4 1 7402\n",
      "5 2 3116\n",
      "6 1 4816\n",
      "7 1 629\n",
      "8 1 923\n",
      "9 0 1138\n",
      "10 0 80\n"
     ]
    }
   ],
   "source": [
    "mode = '1-to-N'\n",
    "\n",
    "maximum = 0\n",
    "for relation_id in range(len(relation2id)):\n",
    "    mask = torch.nonzero(triples[:, 1] == relation_id).squeeze(1)\n",
    "    print(relation_id, rid2cid[relation_id], torch.nonzero(mask).shape[0])\n"
   ]
  },
  {
   "cell_type": "markdown",
   "metadata": {},
   "source": [
    "# Select train triples"
   ]
  },
  {
   "cell_type": "code",
   "execution_count": 5,
   "metadata": {},
   "outputs": [
    {
     "name": "stdout",
     "output_type": "stream",
     "text": [
      "torch.Size([40263, 4])\n"
     ]
    }
   ],
   "source": [
    "# relation_id = \n",
    "\n",
    "relation_mask = (triples[:, 1] == 4) | (triples[:, 1] == 7)\n",
    "one_one_mask = triples[:, 3] == 0\n",
    "mask = relation_mask | one_one_mask\n",
    "\n",
    "selected_triples = triples[torch.nonzero(mask).squeeze(1), ...]\n",
    "print(selected_triples.shape)\n",
    "\n",
    "# print(triples[nonzero_relation_mask[0:100], :])\n",
    "\n",
    "# selected_indices = nonzero_relation_mask.tolist()\n",
    "\n",
    "# for i in range(nonzero_relation_mask.shape[0]):\n",
    "    \n",
    "#     head_id = triples[nonzero_relation_mask[i], 0]\n",
    "#     # print(i, nonzero_relation_mask[i], head_id)\n",
    "\n",
    "#     mask = (triples[:, 0] == head_id) & relation_mask\n",
    "#     nonzero = torch.nonzero(mask)\n",
    "#     tails_id = triples[nonzero, 2]\n",
    "\n",
    "#     for j in range(tails_id.shape[0]):\n",
    "#         tail_mask = (triples[:, 2] == tails_id[j]) & (triples[:, 3] == 0)\n",
    "#         selected_indices += torch.nonzero(tail_mask).tolist()\n",
    "\n",
    "# print(len(selected_indices))\n",
    "# selected_indices = torch.LongTensor(selected_indices).squeeze(1)\n",
    "# selected_triples = triples[selected_indices, :]"
   ]
  },
  {
   "cell_type": "code",
   "execution_count": 6,
   "metadata": {},
   "outputs": [
    {
     "name": "stdout",
     "output_type": "stream",
     "text": [
      "torch.Size([40263, 4])\n",
      "25172 6\n",
      "{1, 3, 4, 7, 9, 10}\n"
     ]
    }
   ],
   "source": [
    "print(selected_triples.shape)\n",
    "head_set = selected_triples[:, 0].tolist()\n",
    "tail_set = selected_triples[:, 2].tolist()\n",
    "entity_set_train = set(head_set + tail_set)\n",
    "relation_set_train = set(selected_triples[:, 1].tolist())\n",
    "print(len(entity_set_train), len(relation_set_train))\n",
    "print(relation_set_train)"
   ]
  },
  {
   "cell_type": "markdown",
   "metadata": {},
   "source": [
    "# Select valid and test triples"
   ]
  },
  {
   "cell_type": "code",
   "execution_count": 7,
   "metadata": {},
   "outputs": [
    {
     "name": "stdout",
     "output_type": "stream",
     "text": [
      "torch.Size([1247, 3]) torch.Size([1225, 3])\n"
     ]
    }
   ],
   "source": [
    "def select_triples(triples, entity_set, relation_set):\n",
    "    select_indices = []\n",
    "    for i in range(triples.shape[0]):\n",
    "        h, r, t = triples[i, :]\n",
    "        if (h.item() in entity_set) and (r.item() in relation_set) and (t.item() in entity_set):\n",
    "            select_indices.append(i)\n",
    "    select_indices = torch.LongTensor(select_indices)\n",
    "    selected_triples = triples[select_indices, :]\n",
    "    return selected_triples\n",
    "\n",
    "selected_test_triples = select_triples(test_triples, entity_set_train, relation_set_train)\n",
    "selected_valid_triples = select_triples(valid_triples, entity_set_train, relation_set_train)\n",
    "\n",
    "print(selected_test_triples.shape, selected_valid_triples.shape)"
   ]
  },
  {
   "cell_type": "code",
   "execution_count": 8,
   "metadata": {},
   "outputs": [
    {
     "name": "stdout",
     "output_type": "stream",
     "text": [
      "2303 6\n",
      "{1, 3, 4, 7, 9, 10}\n"
     ]
    }
   ],
   "source": [
    "head_set = selected_test_triples[:, 0].tolist()\n",
    "tail_set = selected_test_triples[:, 2].tolist()\n",
    "entity_set = set(head_set + tail_set)\n",
    "relation_set = set(selected_test_triples[:, 1].tolist())\n",
    "print(len(entity_set), len(relation_set))\n",
    "print(relation_set)\n",
    "for i in entity_set:\n",
    "    assert i in entity_set_train\n"
   ]
  },
  {
   "cell_type": "markdown",
   "metadata": {},
   "source": [
    "# Generate Dataset"
   ]
  },
  {
   "cell_type": "code",
   "execution_count": 9,
   "metadata": {},
   "outputs": [],
   "source": [
    "new_dataset = 'wn18rr_small'"
   ]
  },
  {
   "cell_type": "markdown",
   "metadata": {},
   "source": [
    "## switch indexes to zero-based"
   ]
  },
  {
   "cell_type": "code",
   "execution_count": 15,
   "metadata": {},
   "outputs": [
    {
     "name": "stdout",
     "output_type": "stream",
     "text": [
      "relation id 1 is switch to 0\n",
      "relation id 3 is switch to 1\n",
      "relation id 4 is switch to 2\n",
      "relation id 7 is switch to 3\n",
      "relation id 9 is switch to 4\n",
      "relation id 10 is switch to 5\n",
      "{1: 0, 3: 1, 4: 2, 7: 3, 9: 4, 10: 5}\n"
     ]
    }
   ],
   "source": [
    "switch_relation_id = {}\n",
    "switch_entity_id = {}\n",
    "\n",
    "relation_set_train = list(relation_set_train)\n",
    "entity_set_train = list(entity_set_train)\n",
    "\n",
    "for i in range(len(relation_set_train)):\n",
    "    switch_relation_id[relation_set_train[i]] = i\n",
    "    print('relation id %d is switch to %d' % (relation_set_train[i], i))\n",
    "print(switch_relation_id)\n",
    "\n",
    "for i in range(len(entity_set_train)):\n",
    "    switch_entity_id[entity_set_train[i]] = i\n",
    "    # print('entity id %d is switch to %d' % (entity_set_train[i], i))\n",
    "    \n",
    "def replace_id(triples, switch_entity_id, switch_relation_id):\n",
    "    temp = triples.clone()\n",
    "    for i in range(triples.shape[0]):\n",
    "        temp[i, 0] = switch_entity_id[triples[i, 0].item()]\n",
    "        temp[i, 2] = switch_entity_id[triples[i, 2].item()]\n",
    "        \n",
    "        temp[i, 1] = switch_relation_id[triples[i, 1].item()]\n",
    "\n",
    "    return temp\n",
    "\n",
    "replaced_selected_triples = replace_id(selected_triples, switch_entity_id, switch_relation_id)\n",
    "replaced_selected_test_triples = replace_id(selected_test_triples, switch_entity_id, switch_relation_id)\n",
    "replaced_selected_valid_triples = replace_id(selected_valid_triples, switch_entity_id, switch_relation_id)\n",
    "\n",
    "torch.save(replaced_selected_triples, 'replaced_selected_triples.pt')\n",
    "torch.save(replaced_selected_test_triples, 'replaced_selected_test_triples.pt')\n",
    "torch.save(replaced_selected_valid_triples, 'replaced_selected_valid_triples.pt')"
   ]
  },
  {
   "cell_type": "markdown",
   "metadata": {},
   "source": [
    "## Generate entities.dict"
   ]
  },
  {
   "cell_type": "code",
   "execution_count": 11,
   "metadata": {},
   "outputs": [],
   "source": [
    "id2entity = dict()\n",
    "for key, value in entity2id.items():\n",
    "    id2entity[value] = key\n",
    "\n",
    "new_entity2id = dict()\n",
    "new_id2entity = dict()\n",
    "\n",
    "count = 0\n",
    "for i in entity_set_train:\n",
    "    entity = id2entity[i]\n",
    "    new_entity2id[entity] = count\n",
    "    new_id2entity[count] = entity\n",
    "    count += 1\n"
   ]
  },
  {
   "cell_type": "code",
   "execution_count": null,
   "metadata": {},
   "outputs": [],
   "source": []
  },
  {
   "cell_type": "code",
   "execution_count": 12,
   "metadata": {},
   "outputs": [],
   "source": [
    "with open(os.path.join(new_dataset, 'entities.dict'), 'w') as f:\n",
    "    for key, value in new_id2entity.items():\n",
    "        f.write('%s\\t%s\\n' % (key, value))\n",
    "f.close()"
   ]
  },
  {
   "cell_type": "markdown",
   "metadata": {},
   "source": [
    "## Generate .txt files"
   ]
  },
  {
   "cell_type": "code",
   "execution_count": 13,
   "metadata": {},
   "outputs": [],
   "source": [
    "new_id2relation = {\n",
    "    0: '_derivationally_related_form',\n",
    "    1: '_also_see',\n",
    "    2: '_member_meronym',\n",
    "    3: '_member_of_domain_usage',\n",
    "    4: '_verb_group',\n",
    "    5: '_similar_to'\n",
    "}\n",
    "\n",
    "\n",
    "def write_txt(triples, id2entity, id2relation, filename='train.txt'):\n",
    "    with open(filename, 'w') as f:\n",
    "        for i in range(triples.shape[0]):\n",
    "            head_id, relation_id, tail_id = triples[i, 0:3]\n",
    "            # print(head_id.item(), relation_id.item())\n",
    "            head = id2entity[head_id.item()]\n",
    "            tail = id2entity[tail_id.item()]\n",
    "            relation = id2relation[relation_id.item()]\n",
    "            f.write('%s\\t%s\\t%s\\n' % (head, relation, tail))\n",
    "    f.close()\n",
    "\n",
    "write_txt(replaced_selected_triples, new_id2entity, new_id2relation, os.path.join(new_dataset, 'train.txt'))\n",
    "write_txt(replaced_selected_test_triples, new_id2entity, new_id2relation, os.path.join(new_dataset, 'test.txt'))\n",
    "write_txt(replaced_selected_valid_triples, new_id2entity, new_id2relation, os.path.join(new_dataset, 'valid.txt'))\n",
    "            "
   ]
  },
  {
   "cell_type": "code",
   "execution_count": null,
   "metadata": {},
   "outputs": [],
   "source": []
  }
 ],
 "metadata": {
  "kernelspec": {
   "display_name": "Python 3",
   "language": "python",
   "name": "python3"
  },
  "language_info": {
   "codemirror_mode": {
    "name": "ipython",
    "version": 3
   },
   "file_extension": ".py",
   "mimetype": "text/x-python",
   "name": "python",
   "nbconvert_exporter": "python",
   "pygments_lexer": "ipython3",
   "version": "3.7.5"
  }
 },
 "nbformat": 4,
 "nbformat_minor": 4
}
